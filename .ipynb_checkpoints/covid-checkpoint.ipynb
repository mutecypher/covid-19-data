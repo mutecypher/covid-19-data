{
 "cells": [
  {
   "cell_type": "code",
   "execution_count": 10,
   "metadata": {},
   "outputs": [
    {
     "name": "stdout",
     "output_type": "stream",
     "text": [
      "country tail is             date    cases  deaths\n",
      "169  2020-07-08  3071663  132237\n",
      "170  2020-07-09  3131549  133079\n",
      "171  2020-07-10  3199790  133906\n",
      "172  2020-07-11  3260558  134581\n",
      "173  2020-07-12  3318347  134976 \n",
      "\n",
      "shape is  (174, 3)\n",
      "\n",
      "states tails is              date          state  fips  cases  deaths\n",
      "7269  2020-07-12       Virginia    51  70670    1966\n",
      "7270  2020-07-12     Washington    53  42181    1438\n",
      "7271  2020-07-12  West Virginia    54   4244      96\n",
      "7272  2020-07-12      Wisconsin    55  39901     828\n",
      "7273  2020-07-12        Wyoming    56   1862      21 \n",
      "\n",
      "states shape is  (7274, 5)\n",
      "\n",
      "county tails is                date      county    state     fips  cases  deaths\n",
      "322646  2020-07-12  Sweetwater  Wyoming  56037.0    138       0\n",
      "322647  2020-07-12       Teton  Wyoming  56039.0    157       1\n",
      "322648  2020-07-12       Uinta  Wyoming  56041.0    202       0\n",
      "322649  2020-07-12    Washakie  Wyoming  56043.0     42       5\n",
      "322650  2020-07-12      Weston  Wyoming  56045.0      1       0 \n",
      "\n",
      "county shape is (322651, 6)\n"
     ]
    }
   ],
   "source": [
    "import pandas as pd\n",
    "\n",
    "usa = '/Users/mutecypher/Documents/GitHub/covid-19-data/us.csv'\n",
    "\n",
    "country_df = pd.read_csv(usa)\n",
    "\n",
    "print(\"country tail is \", country_df.tail(), \"\\n\\nshape is \", country_df.shape)\n",
    "\n",
    "states = '/Users/mutecypher/Documents/GitHub/covid-19-data/us-states.csv'\n",
    "\n",
    "states_df = pd.read_csv(states)\n",
    "\n",
    "print(\"\\nstates tails is \", states_df.tail(), \"\\n\\nstates shape is \", states_df.shape)\n",
    "\n",
    "county = '/Users/mutecypher/Documents/GitHub/covid-19-data/us-counties.csv'\n",
    "\n",
    "county_df = pd.read_csv(county)\n",
    "\n",
    "print(\"\\ncounty tails is \", county_df.tail(), \"\\n\\ncounty shape is\", county_df.shape)\n"
   ]
  },
  {
   "cell_type": "code",
   "execution_count": null,
   "metadata": {},
   "outputs": [],
   "source": []
  }
 ],
 "metadata": {
  "kernelspec": {
   "display_name": "Python 3",
   "language": "python",
   "name": "python3"
  },
  "language_info": {
   "codemirror_mode": {
    "name": "ipython",
    "version": 3
   },
   "file_extension": ".py",
   "mimetype": "text/x-python",
   "name": "python",
   "nbconvert_exporter": "python",
   "pygments_lexer": "ipython3",
   "version": "3.7.7"
  }
 },
 "nbformat": 4,
 "nbformat_minor": 4
}
